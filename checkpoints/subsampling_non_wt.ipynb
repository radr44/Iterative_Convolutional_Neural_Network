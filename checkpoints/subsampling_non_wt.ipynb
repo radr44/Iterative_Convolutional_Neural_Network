{
  "nbformat": 4,
  "nbformat_minor": 0,
  "metadata": {
    "colab": {
      "name": "subsampling_non-wt.ipynb",
      "provenance": [],
      "authorship_tag": "ABX9TyPlS2Ehw/hyzlKTFGF9I5dS",
      "include_colab_link": true
    },
    "kernelspec": {
      "name": "python3",
      "display_name": "Python 3"
    }
  },
  "cells": [
    {
      "cell_type": "markdown",
      "metadata": {
        "id": "view-in-github",
        "colab_type": "text"
      },
      "source": [
        "<a href=\"https://colab.research.google.com/github/radr44/Iterative_Convolutional_Neural_Network/blob/master/checkpoints/subsampling_non_wt.ipynb\" target=\"_parent\"><img src=\"https://colab.research.google.com/assets/colab-badge.svg\" alt=\"Open In Colab\"/></a>"
      ]
    },
    {
      "cell_type": "code",
      "metadata": {
        "id": "Jy1t955jrnAJ",
        "colab_type": "code",
        "colab": {}
      },
      "source": [
        "import cv2 as cv\n",
        "import numpy as np\n",
        "import torch"
      ],
      "execution_count": 0,
      "outputs": []
    },
    {
      "cell_type": "code",
      "metadata": {
        "id": "GCR6-Uf2rnQD",
        "colab_type": "code",
        "colab": {}
      },
      "source": [
        "def Gaussian_downscale(img): \n",
        "  img = cv.pyrDown(img)\n",
        "\n",
        "  return img"
      ],
      "execution_count": 0,
      "outputs": []
    },
    {
      "cell_type": "code",
      "metadata": {
        "id": "PlLXpoJ9rnTB",
        "colab_type": "code",
        "colab": {}
      },
      "source": [
        "def CannyEdge(img, l_bound = 20, u_bound = 200):\n",
        "\n",
        "  img = cv.resize(img, None, fx=0.5, fy=0.5, interpolation = cv.INTER_CUBIC )\n",
        "  img = cv.Canny(img, l_bound, u_bound)\n",
        " \n",
        "  return img"
      ],
      "execution_count": 0,
      "outputs": []
    },
    {
      "cell_type": "code",
      "metadata": {
        "id": "Y5hTDToArnV0",
        "colab_type": "code",
        "colab": {}
      },
      "source": [
        "def hfilter(img, blur = True, ker = 3):\n",
        "  ddepth = cv.CV_16S\n",
        "  scale = 1\n",
        "  delta = 0\n",
        "  \n",
        "  img = cv.resize(img, None, fx=0.5, fy=0.5, interpolation = cv.INTER_CUBIC )\n",
        "  if blur==True:\n",
        "    img = cv.GaussianBlur(img, (3, 3), 0)\n",
        "  grad_x = cv.Sobel(img, ddepth, 1, 0, ksize=ker, scale=scale, delta=delta, borderType=cv.BORDER_DEFAULT)\n",
        "  abs_grad_x = cv.convertScaleAbs(grad_x)\n",
        "\n",
        "  return abs_grad_x"
      ],
      "execution_count": 0,
      "outputs": []
    },
    {
      "cell_type": "code",
      "metadata": {
        "id": "4tatXIKhrnYx",
        "colab_type": "code",
        "colab": {}
      },
      "source": [
        "def vfilter(img, blur = True, ker = 3):\n",
        "  ddepth = cv.CV_16S\n",
        "  scale = 1\n",
        "  delta = 0\n",
        " \n",
        "  img = cv.resize(img, None, fx=0.5, fy=0.5, interpolation = cv.INTER_CUBIC )\n",
        "  if blur==True:\n",
        "    img = cv.GaussianBlur(img, (3, 3), 0)\n",
        "  grad_y = cv.Sobel(img, ddepth, 0, 1, ksize=ker, scale=scale, delta=delta, borderType=cv.BORDER_DEFAULT)\n",
        "  abs_grad_y = cv.convertScaleAbs(grad_y)\n",
        "  return abs_grad_y"
      ],
      "execution_count": 0,
      "outputs": []
    },
    {
      "cell_type": "code",
      "metadata": {
        "id": "6Sv2vAjJrnbp",
        "colab_type": "code",
        "colab": {}
      },
      "source": [
        "def wfilter(img, blur = True, ker = 3):\n",
        "  ddepth = cv.CV_16S\n",
        "  scale = 1\n",
        "  delta = 0\n",
        "  img = cv.resize(img, None, fx=0.5, fy=0.5, interpolation = cv.INTER_CUBIC )\n",
        "  if blur==True:\n",
        "    img = cv.GaussianBlur(img, (3, 3), 0)\n",
        "  grad_y = cv.Sobel(img, ddepth, 0, 1, ksize=ker, scale=scale, delta=delta, borderType=cv.BORDER_DEFAULT)\n",
        "  abs_grad_y = cv.convertScaleAbs(grad_y)\n",
        "  grad_x = cv.Sobel(img, ddepth, 1, 0, ksize=ker, scale=scale, delta=delta, borderType=cv.BORDER_DEFAULT)\n",
        "  abs_grad_x = cv.convertScaleAbs(grad_x)\n",
        "  grad = cv.addWeighted(abs_grad_x, 0.5, abs_grad_y, 0.5, 0)\n",
        "  return grad"
      ],
      "execution_count": 0,
      "outputs": []
    },
    {
      "cell_type": "code",
      "metadata": {
        "id": "HqTXACjOrnew",
        "colab_type": "code",
        "colab": {}
      },
      "source": [
        "def Laplacian(img, blur = True, ker = 3 ):\n",
        "  ddepth = cv.CV_16S\n",
        "  img = cv.resize(img, None, fx=0.5, fy=0.5, interpolation = cv.INTER_CUBIC )\n",
        "  if blur==True:\n",
        "    img = cv.GaussianBlur(img, (3, 3), 0)\n",
        "  ss = cv.Laplacian(img, ddepth, ksize=ker)\n",
        "  return ss"
      ],
      "execution_count": 0,
      "outputs": []
    }
  ]
}