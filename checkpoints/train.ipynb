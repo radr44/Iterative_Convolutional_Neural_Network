{
  "nbformat": 4,
  "nbformat_minor": 0,
  "metadata": {
    "colab": {
      "name": "train.ipynb",
      "provenance": [],
      "mount_file_id": "1WcmAlaIGrsNXlmhMx9KaCTrz8sxZwjVp",
      "authorship_tag": "ABX9TyOHR9xWdG1S+IYjVXvv0GcW",
      "include_colab_link": true
    },
    "kernelspec": {
      "name": "python3",
      "display_name": "Python 3"
    },
    "accelerator": "GPU"
  },
  "cells": [
    {
      "cell_type": "markdown",
      "metadata": {
        "id": "view-in-github",
        "colab_type": "text"
      },
      "source": [
        "<a href=\"https://colab.research.google.com/github/radr44/Iterative_Convolutional_Neural_Network/blob/master/checkpoints/train.ipynb\" target=\"_parent\"><img src=\"https://colab.research.google.com/assets/colab-badge.svg\" alt=\"Open In Colab\"/></a>"
      ]
    },
    {
      "cell_type": "code",
      "metadata": {
        "id": "SZH73tn2RCZU",
        "colab_type": "code",
        "colab": {}
      },
      "source": [
        "import torch\n",
        "import numpy as np\n",
        "import cv2 as cv\n",
        "import subsampling\n",
        "import torch.nn as nn\n",
        "import torch.nn.functional as F\n",
        "import torch.optim as optim\n",
        "from torch.optim import lr_scheduler\n",
        "import torchvision\n",
        "from torchvision import datasets, models, transforms\n",
        "import matplotlib.pyplot as plt\n",
        "import time\n",
        "import os\n",
        "import ICNN\n",
        "import preprocessing\n",
        "import copy"
      ],
      "execution_count": 0,
      "outputs": []
    },
    {
      "cell_type": "code",
      "metadata": {
        "id": "9CBb0bhpRwJ1",
        "colab_type": "code",
        "colab": {}
      },
      "source": [
        "data_transforms = transforms.Compose([\n",
        "        transforms.Resize((96,144)),\n",
        "        transforms.RandomHorizontalFlip(),\n",
        "        transforms.ToTensor() ])"
      ],
      "execution_count": 0,
      "outputs": []
    },
    {
      "cell_type": "code",
      "metadata": {
        "id": "mBh_6viXToIq",
        "colab_type": "code",
        "colab": {}
      },
      "source": [
        "data_dir = '/content/drive/My Drive/Superset'\n",
        "image_dataset = datasets.ImageFolder(data_dir,data_transforms)\n",
        "class_names = image_dataset.classes\n",
        "train_set, hold_set = torch.utils.data.random_split(image_dataset, [23582,10000])\n",
        "train_set, throw_set = torch.utils.data.random_split(train_set, [23580,2] )\n",
        "val_set, test_set = torch.utils.data.random_split(hold_set, [5000,5000])\n",
        "dataset_train = torch.utils.data.DataLoader(train_set, batch_size = 5, shuffle = True, num_workers = 4)\n",
        "dataset_val = torch.utils.data.DataLoader(val_set, batch_size = 5, shuffle = True, num_workers = 4)\n",
        "dataset_test = torch.utils.data.DataLoader(test_set, batch_size = 5, shuffle = True, num_workers = 4)"
      ],
      "execution_count": 0,
      "outputs": []
    },
    {
      "cell_type": "code",
      "metadata": {
        "id": "EOnZGWWeToLW",
        "colab_type": "code",
        "colab": {}
      },
      "source": [
        "def train_model_p1(model, criterion, optimizer, scheduler, num_epochs=10):\n",
        "  #train whole network using the fc layers of last ucnn\n",
        "    since = time.time()\n",
        "\n",
        "    best_model_wts = copy.deepcopy(model.state_dict())\n",
        "    best_acc = 0.0\n",
        "\n",
        "    for epoch in range(num_epochs):\n",
        "        print('Epoch {}/{}'.format(epoch, num_epochs - 1))\n",
        "        print('-' * 10)\n",
        "\n",
        "        # Each epoch has a training and validation phase\n",
        "        for phase in ['train', 'dev']:\n",
        "            if phase == 'train':\n",
        "                model.train()  # Set model to training mode\n",
        "            else:\n",
        "                model.eval()   # Set model to evaluate mode\n",
        "\n",
        "            running_loss = 0.0\n",
        "            running_corrects = 0\n",
        "\n",
        "            # Iterate over data.\n",
        "            for batch_idx,(inputs, labels) in enumerate(dataset_combined[phase]):\n",
        "               \n",
        "               \n",
        "                # zero the parameter gradients\n",
        "                optimizer.zero_grad()\n",
        "\n",
        "                # forward\n",
        "                # track history if only in train\n",
        "                with torch.set_grad_enabled(phase == 'train'):\n",
        "                    outputs = model(inputs)\n",
        "                    _, preds = torch.max(outputs, 1)\n",
        "                    loss = criterion(outputs, labels)\n",
        "\n",
        "                    # backward + optimize only if in training phase\n",
        "                    if phase == 'train':\n",
        "                        loss.backward()\n",
        "                        optimizer.step()\n",
        "\n",
        "                # statistics\n",
        "                running_loss += loss.item() * inputs.size(0)\n",
        "                running_corrects += torch.sum(preds == labels.data)\n",
        "                if batch_idx % 50 == 0:\n",
        "                  print('Epoch : {} [{}/{} ({:.0f}%)]\\tLoss: {:.6f}\\t Accuracy:{:.3f}%'.format(\n",
        "                    epoch, batch_idx*len(inputs), len(dataset_combined[\"train\"].dataset), 100*batch_idx / len(dataset_train), loss.data, float(running_corrects*100) / float(5*(batch_idx+1))))\n",
        "            if phase == 'train':\n",
        "                scheduler.step()\n",
        "\n",
        "            epoch_loss = running_loss / dataset_sizes[phase]\n",
        "            epoch_acc = running_corrects.double() / dataset_sizes[phase]\n",
        "\n",
        "            print('{} Loss: {:.4f} Acc: {:.4f}'.format(\n",
        "                phase, epoch_loss, epoch_acc))\n",
        "\n",
        "            # deep copy the model\n",
        "            if phase == 'dev' and epoch_acc > best_acc:\n",
        "                best_acc = epoch_acc\n",
        "                best_model_wts = copy.deepcopy(model.state_dict())\n",
        "\n",
        "        print()\n",
        "\n",
        "    time_elapsed = time.time() - since\n",
        "    print('Training complete in {:.0f}m {:.0f}s'.format(\n",
        "        time_elapsed // 60, time_elapsed % 60))\n",
        "    print('Best val Acc: {:4f}'.format(best_acc))\n",
        "    print(scheduler)\n",
        "\n",
        "    # load best model weights\n",
        "    model.load_state_dict(best_model_wts)\n",
        "    return model"
      ],
      "execution_count": 0,
      "outputs": []
    },
    {
      "cell_type": "code",
      "metadata": {
        "id": "ygG_ifkLWdxu",
        "colab_type": "code",
        "colab": {}
      },
      "source": [
        "dataset_combined = {\"train\":dataset_train,\"dev\":dataset_val}"
      ],
      "execution_count": 0,
      "outputs": []
    },
    {
      "cell_type": "code",
      "metadata": {
        "id": "juSPTa09X256",
        "colab_type": "code",
        "colab": {}
      },
      "source": [
        "ucnn_1 = ICNN.micro_cnn_Alexnet(k=0)\n",
        "ucnn_2 = ICNN.micro_cnn_Alexnet(k=1)\n",
        "ucnn_3 = ICNN.micro_cnn_Alexnet(k=2)\n",
        "ucnn_4 = ICNN.micro_cnn_Alexnet(k=3)\n",
        "ucnn_5 = ICNN.micro_cnn_Alexnet(k=4)\n",
        "ucnn_6 = ICNN.micro_cnn_Alexnet(k=5)\n",
        "ucnn_7 = ICNN.micro_cnn_Alexnet(k=6)\n",
        "ucnn_8 = ICNN.micro_cnn_Alexnet(k=7)\n",
        "ucnn_9 = ICNN.micro_cnn_Alexnet(k=8)\n",
        "ucnn_10 = ICNN.micro_cnn_Alexnet(k=9,nfc=512)\n",
        "ucnn = [ucnn_1,ucnn_2,ucnn_3,ucnn_4,ucnn_5,ucnn_6]"
      ],
      "execution_count": 0,
      "outputs": []
    },
    {
      "cell_type": "code",
      "metadata": {
        "id": "k8b0GY8aToOR",
        "colab_type": "code",
        "colab": {}
      },
      "source": [
        "icnn=ICNN.ICNN_Alexnet(ucnn=ucnn)\n",
        "criterion = nn.CrossEntropyLoss()\n",
        "\n",
        "optimizer_ft = optim.Adam(icnn.parameters(),lr=0.0001)\n",
        "\n",
        "exp_lr_scheduler = lr_scheduler.MultiplicativeLR(optimizer_ft,lr_lambda=0.9)"
      ],
      "execution_count": 0,
      "outputs": []
    },
    {
      "cell_type": "code",
      "metadata": {
        "id": "Vk5iUvbSToXZ",
        "colab_type": "code",
        "colab": {}
      },
      "source": [
        "def fit(model, train_loader):\n",
        "    optimizer = torch.optim.Adam(model.parameters(),lr=0.002)\n",
        "    error = nn.CrossEntropyLoss()\n",
        "    EPOCHS = 6\n",
        "    model.train()\n",
        "    for epoch in range(EPOCHS):\n",
        "        correct = 0\n",
        "        for batch_idx, (x_batch, y_batch) in enumerate(train_loader):\n",
        "            var_x_batch = Variable(x_batch).float()\n",
        "            var_y_batch = Variable(y_batch)\n",
        "            optimizer.zero_grad()\n",
        "            output = model(var_x_batch)\n",
        "            loss = error(output, var_y_batch)\n",
        "            loss.backward()\n",
        "            optimizer.step()\n",
        "\n",
        "            # Total correct predictions\n",
        "            predicted = torch.max(output.data, 1)[1] \n",
        "            correct += (predicted == var_y_batch).sum()\n",
        "            #print(correct)\n",
        "            if batch_idx % 50 == 0:\n",
        "                print('Epoch : {} [{}/{} ({:.0f}%)]\\tLoss: {:.6f}\\t Accuracy:{:.3f}%'.format(\n",
        "                    epoch+1, batch_idx*len(x_batch), len(train_loader.dataset), 100*batch_idx / len(train_loader), loss.data, float(correct*100) / float(4*(batch_idx+1))))"
      ],
      "execution_count": 0,
      "outputs": []
    },
    {
      "cell_type": "code",
      "metadata": {
        "id": "777PWk7iRwhh",
        "colab_type": "code",
        "colab": {
          "base_uri": "https://localhost:8080/",
          "height": 35
        },
        "outputId": "ebbf7f4e-4f05-4308-de44-739019d6ee98"
      },
      "source": [
        "len(list(icnn.parameters()))"
      ],
      "execution_count": 54,
      "outputs": [
        {
          "output_type": "execute_result",
          "data": {
            "text/plain": [
              "96"
            ]
          },
          "metadata": {
            "tags": []
          },
          "execution_count": 54
        }
      ]
    },
    {
      "cell_type": "code",
      "metadata": {
        "id": "OX0CdUB-5Aql",
        "colab_type": "code",
        "outputId": "ba7ad868-45ee-4945-f3de-6cb3a599d0b9",
        "colab": {
          "base_uri": "https://localhost:8080/",
          "height": 1000
        }
      },
      "source": [
        "model_ft = train_model_p1(icnn, criterion, optimizer_ft, exp_lr_scheduler,num_epochs=3)"
      ],
      "execution_count": 10,
      "outputs": [
        {
          "output_type": "stream",
          "text": [
            "Epoch 0/9\n",
            "----------\n",
            "Epoch : 0 [0/23582 (0%)]\tLoss: 2.675113\t Accuracy:25.000%\n",
            "Epoch : 0 [200/23582 (1%)]\tLoss: 2.911409\t Accuracy:8.824%\n",
            "Epoch : 0 [400/23582 (2%)]\tLoss: 2.572189\t Accuracy:11.139%\n",
            "Epoch : 0 [600/23582 (3%)]\tLoss: 2.478086\t Accuracy:12.583%\n",
            "Epoch : 0 [800/23582 (3%)]\tLoss: 3.168175\t Accuracy:17.164%\n",
            "Epoch : 0 [1000/23582 (4%)]\tLoss: 1.265169\t Accuracy:20.916%\n",
            "Epoch : 0 [1200/23582 (5%)]\tLoss: 1.787857\t Accuracy:25.166%\n",
            "Epoch : 0 [1400/23582 (6%)]\tLoss: 1.192203\t Accuracy:28.205%\n",
            "Epoch : 0 [1600/23582 (7%)]\tLoss: 1.167319\t Accuracy:32.232%\n",
            "Epoch : 0 [1800/23582 (8%)]\tLoss: 1.968131\t Accuracy:34.701%\n",
            "Epoch : 0 [2000/23582 (8%)]\tLoss: 2.150630\t Accuracy:37.375%\n",
            "Epoch : 0 [2200/23582 (9%)]\tLoss: 0.823149\t Accuracy:39.746%\n",
            "Epoch : 0 [2400/23582 (10%)]\tLoss: 0.853007\t Accuracy:41.597%\n",
            "Epoch : 0 [2600/23582 (11%)]\tLoss: 2.608127\t Accuracy:43.625%\n",
            "Epoch : 0 [2800/23582 (12%)]\tLoss: 1.099730\t Accuracy:45.292%\n",
            "Epoch : 0 [3000/23582 (13%)]\tLoss: 0.647802\t Accuracy:47.204%\n",
            "Epoch : 0 [3200/23582 (14%)]\tLoss: 1.257304\t Accuracy:48.377%\n",
            "Epoch : 0 [3400/23582 (14%)]\tLoss: 0.641732\t Accuracy:49.882%\n",
            "Epoch : 0 [3600/23582 (15%)]\tLoss: 0.481537\t Accuracy:50.777%\n",
            "Epoch : 0 [3800/23582 (16%)]\tLoss: 0.402212\t Accuracy:52.129%\n",
            "Epoch : 0 [4000/23582 (17%)]\tLoss: 0.317652\t Accuracy:53.222%\n",
            "Epoch : 0 [4200/23582 (18%)]\tLoss: 0.848010\t Accuracy:54.282%\n",
            "Epoch : 0 [4400/23582 (19%)]\tLoss: 0.360120\t Accuracy:55.450%\n",
            "Epoch : 0 [4600/23582 (20%)]\tLoss: 0.316309\t Accuracy:56.538%\n",
            "Epoch : 0 [4800/23582 (20%)]\tLoss: 0.228801\t Accuracy:57.494%\n",
            "Epoch : 0 [5000/23582 (21%)]\tLoss: 0.283772\t Accuracy:58.213%\n",
            "Epoch : 0 [5200/23582 (22%)]\tLoss: 0.496547\t Accuracy:59.089%\n",
            "Epoch : 0 [5400/23582 (23%)]\tLoss: 1.447527\t Accuracy:59.345%\n",
            "Epoch : 0 [5600/23582 (24%)]\tLoss: 2.430848\t Accuracy:59.957%\n",
            "Epoch : 0 [5800/23582 (25%)]\tLoss: 1.032837\t Accuracy:60.803%\n",
            "Epoch : 0 [6000/23582 (25%)]\tLoss: 0.832744\t Accuracy:61.642%\n",
            "Epoch : 0 [6200/23582 (26%)]\tLoss: 0.286083\t Accuracy:62.234%\n",
            "Epoch : 0 [6400/23582 (27%)]\tLoss: 0.031539\t Accuracy:62.929%\n",
            "Epoch : 0 [6600/23582 (28%)]\tLoss: 0.886548\t Accuracy:63.552%\n",
            "Epoch : 0 [6800/23582 (29%)]\tLoss: 0.037685\t Accuracy:64.080%\n",
            "Epoch : 0 [7000/23582 (30%)]\tLoss: 0.027077\t Accuracy:64.734%\n",
            "Epoch : 0 [7200/23582 (31%)]\tLoss: 0.489961\t Accuracy:65.339%\n",
            "Epoch : 0 [7400/23582 (31%)]\tLoss: 0.227037\t Accuracy:65.937%\n",
            "Epoch : 0 [7600/23582 (32%)]\tLoss: 0.468804\t Accuracy:66.426%\n",
            "Epoch : 0 [7800/23582 (33%)]\tLoss: 0.320551\t Accuracy:66.953%\n",
            "Epoch : 0 [8000/23582 (34%)]\tLoss: 0.021723\t Accuracy:67.429%\n",
            "Epoch : 0 [8200/23582 (35%)]\tLoss: 0.802785\t Accuracy:67.857%\n",
            "Epoch : 0 [8400/23582 (36%)]\tLoss: 0.302378\t Accuracy:68.277%\n",
            "Epoch : 0 [8600/23582 (36%)]\tLoss: 0.492845\t Accuracy:68.619%\n",
            "Epoch : 0 [8800/23582 (37%)]\tLoss: 0.291112\t Accuracy:69.003%\n",
            "Epoch : 0 [9000/23582 (38%)]\tLoss: 1.123503\t Accuracy:69.358%\n",
            "Epoch : 0 [9200/23582 (39%)]\tLoss: 0.698635\t Accuracy:69.752%\n",
            "Epoch : 0 [9400/23582 (40%)]\tLoss: 0.069370\t Accuracy:70.140%\n",
            "Epoch : 0 [9600/23582 (41%)]\tLoss: 0.648429\t Accuracy:70.460%\n",
            "Epoch : 0 [9800/23582 (42%)]\tLoss: 0.384399\t Accuracy:70.747%\n",
            "Epoch : 0 [10000/23582 (42%)]\tLoss: 2.607683\t Accuracy:70.962%\n",
            "Epoch : 0 [10200/23582 (43%)]\tLoss: 0.016375\t Accuracy:71.247%\n",
            "Epoch : 0 [10400/23582 (44%)]\tLoss: 0.763016\t Accuracy:71.597%\n",
            "Epoch : 0 [10600/23582 (45%)]\tLoss: 0.252379\t Accuracy:71.954%\n",
            "Epoch : 0 [10800/23582 (46%)]\tLoss: 0.007449\t Accuracy:72.242%\n",
            "Epoch : 0 [11000/23582 (47%)]\tLoss: 0.194913\t Accuracy:72.428%\n",
            "Epoch : 0 [11200/23582 (47%)]\tLoss: 1.684365\t Accuracy:72.670%\n",
            "Epoch : 0 [11400/23582 (48%)]\tLoss: 0.556017\t Accuracy:72.913%\n",
            "Epoch : 0 [11600/23582 (49%)]\tLoss: 0.849275\t Accuracy:73.121%\n",
            "Epoch : 0 [11800/23582 (50%)]\tLoss: 0.256261\t Accuracy:73.365%\n",
            "Epoch : 0 [12000/23582 (51%)]\tLoss: 0.258110\t Accuracy:73.609%\n",
            "Epoch : 0 [12200/23582 (52%)]\tLoss: 0.008307\t Accuracy:73.845%\n",
            "Epoch : 0 [12400/23582 (53%)]\tLoss: 0.057920\t Accuracy:74.041%\n",
            "Epoch : 0 [12600/23582 (53%)]\tLoss: 0.006723\t Accuracy:74.302%\n",
            "Epoch : 0 [12800/23582 (54%)]\tLoss: 0.102683\t Accuracy:74.485%\n",
            "Epoch : 0 [13000/23582 (55%)]\tLoss: 0.121748\t Accuracy:74.777%\n",
            "Epoch : 0 [13200/23582 (56%)]\tLoss: 0.386182\t Accuracy:75.045%\n",
            "Epoch : 0 [13400/23582 (57%)]\tLoss: 1.524234\t Accuracy:75.224%\n",
            "Epoch : 0 [13600/23582 (58%)]\tLoss: 0.519820\t Accuracy:75.382%\n",
            "Epoch : 0 [13800/23582 (59%)]\tLoss: 0.020913\t Accuracy:75.572%\n",
            "Epoch : 0 [14000/23582 (59%)]\tLoss: 0.505052\t Accuracy:75.771%\n",
            "Epoch : 0 [14200/23582 (60%)]\tLoss: 0.434946\t Accuracy:75.915%\n",
            "Epoch : 0 [14400/23582 (61%)]\tLoss: 0.014043\t Accuracy:76.104%\n",
            "Epoch : 0 [14600/23582 (62%)]\tLoss: 0.284084\t Accuracy:76.253%\n",
            "Epoch : 0 [14800/23582 (63%)]\tLoss: 0.000325\t Accuracy:76.493%\n",
            "Epoch : 0 [15000/23582 (64%)]\tLoss: 0.273141\t Accuracy:76.693%\n",
            "Epoch : 0 [15200/23582 (64%)]\tLoss: 0.052583\t Accuracy:76.881%\n",
            "Epoch : 0 [15400/23582 (65%)]\tLoss: 0.723880\t Accuracy:77.045%\n",
            "Epoch : 0 [15600/23582 (66%)]\tLoss: 0.592183\t Accuracy:77.205%\n",
            "Epoch : 0 [15800/23582 (67%)]\tLoss: 0.285426\t Accuracy:77.392%\n",
            "Epoch : 0 [16000/23582 (68%)]\tLoss: 0.141519\t Accuracy:77.599%\n",
            "Epoch : 0 [16200/23582 (69%)]\tLoss: 0.000822\t Accuracy:77.759%\n",
            "Epoch : 0 [16400/23582 (70%)]\tLoss: 0.066938\t Accuracy:77.944%\n",
            "Epoch : 0 [16600/23582 (70%)]\tLoss: 0.012357\t Accuracy:78.072%\n",
            "Epoch : 0 [16800/23582 (71%)]\tLoss: 0.067319\t Accuracy:78.184%\n",
            "Epoch : 0 [17000/23582 (72%)]\tLoss: 0.097984\t Accuracy:78.352%\n",
            "Epoch : 0 [17200/23582 (73%)]\tLoss: 0.032941\t Accuracy:78.546%\n",
            "Epoch : 0 [17400/23582 (74%)]\tLoss: 0.000551\t Accuracy:78.683%\n",
            "Epoch : 0 [17600/23582 (75%)]\tLoss: 0.494784\t Accuracy:78.851%\n",
            "Epoch : 0 [17800/23582 (75%)]\tLoss: 0.015816\t Accuracy:78.982%\n",
            "Epoch : 0 [18000/23582 (76%)]\tLoss: 0.091783\t Accuracy:79.088%\n",
            "Epoch : 0 [18200/23582 (77%)]\tLoss: 0.610549\t Accuracy:79.235%\n",
            "Epoch : 0 [18400/23582 (78%)]\tLoss: 0.775746\t Accuracy:79.331%\n",
            "Epoch : 0 [18600/23582 (79%)]\tLoss: 0.652160\t Accuracy:79.440%\n",
            "Epoch : 0 [18800/23582 (80%)]\tLoss: 0.687814\t Accuracy:79.542%\n",
            "Epoch : 0 [19000/23582 (81%)]\tLoss: 0.952766\t Accuracy:79.641%\n",
            "Epoch : 0 [19200/23582 (81%)]\tLoss: 1.327657\t Accuracy:79.733%\n",
            "Epoch : 0 [19400/23582 (82%)]\tLoss: 0.684647\t Accuracy:79.850%\n",
            "Epoch : 0 [19600/23582 (83%)]\tLoss: 0.220661\t Accuracy:79.938%\n",
            "Epoch : 0 [19800/23582 (84%)]\tLoss: 0.368414\t Accuracy:80.065%\n",
            "Epoch : 0 [20000/23582 (85%)]\tLoss: 0.544464\t Accuracy:80.234%\n",
            "Epoch : 0 [20200/23582 (86%)]\tLoss: 0.004260\t Accuracy:80.360%\n",
            "Epoch : 0 [20400/23582 (86%)]\tLoss: 0.609935\t Accuracy:80.455%\n",
            "Epoch : 0 [20600/23582 (87%)]\tLoss: 0.027523\t Accuracy:80.567%\n",
            "Epoch : 0 [20800/23582 (88%)]\tLoss: 0.715865\t Accuracy:80.710%\n",
            "Epoch : 0 [21000/23582 (89%)]\tLoss: 0.099283\t Accuracy:80.823%\n",
            "Epoch : 0 [21200/23582 (90%)]\tLoss: 0.066095\t Accuracy:80.966%\n",
            "Epoch : 0 [21400/23582 (91%)]\tLoss: 0.033717\t Accuracy:81.078%\n",
            "Epoch : 0 [21600/23582 (92%)]\tLoss: 0.003445\t Accuracy:81.161%\n",
            "Epoch : 0 [21800/23582 (92%)]\tLoss: 0.037334\t Accuracy:81.265%\n",
            "Epoch : 0 [22000/23582 (93%)]\tLoss: 0.094180\t Accuracy:81.353%\n",
            "Epoch : 0 [22200/23582 (94%)]\tLoss: 0.005177\t Accuracy:81.436%\n",
            "Epoch : 0 [22400/23582 (95%)]\tLoss: 0.526673\t Accuracy:81.557%\n",
            "Epoch : 0 [22600/23582 (96%)]\tLoss: 0.002523\t Accuracy:81.680%\n",
            "Epoch : 0 [22800/23582 (97%)]\tLoss: 0.061213\t Accuracy:81.788%\n",
            "Epoch : 0 [23000/23582 (98%)]\tLoss: 0.107537\t Accuracy:81.868%\n",
            "Epoch : 0 [23200/23582 (98%)]\tLoss: 0.054577\t Accuracy:81.960%\n",
            "Epoch : 0 [23400/23582 (99%)]\tLoss: 0.193341\t Accuracy:82.042%\n"
          ],
          "name": "stdout"
        },
        {
          "output_type": "error",
          "ename": "IndexError",
          "evalue": "ignored",
          "traceback": [
            "\u001b[0;31m---------------------------------------------------------------------------\u001b[0m",
            "\u001b[0;31mIndexError\u001b[0m                                Traceback (most recent call last)",
            "\u001b[0;32m<ipython-input-10-6150a523865c>\u001b[0m in \u001b[0;36m<module>\u001b[0;34m()\u001b[0m\n\u001b[0;32m----> 1\u001b[0;31m \u001b[0mmodel_ft\u001b[0m \u001b[0;34m=\u001b[0m \u001b[0mtrain_model_p1\u001b[0m\u001b[0;34m(\u001b[0m\u001b[0micnn\u001b[0m\u001b[0;34m,\u001b[0m \u001b[0mcriterion\u001b[0m\u001b[0;34m,\u001b[0m \u001b[0moptimizer_ft\u001b[0m\u001b[0;34m,\u001b[0m \u001b[0mexp_lr_scheduler\u001b[0m\u001b[0;34m,\u001b[0m\u001b[0mnum_epochs\u001b[0m\u001b[0;34m=\u001b[0m\u001b[0;36m10\u001b[0m\u001b[0;34m)\u001b[0m\u001b[0;34m\u001b[0m\u001b[0;34m\u001b[0m\u001b[0m\n\u001b[0m",
            "\u001b[0;32m<ipython-input-7-1ca59e4cd29f>\u001b[0m in \u001b[0;36mtrain_model_p1\u001b[0;34m(model, criterion, optimizer, scheduler, num_epochs)\u001b[0m\n\u001b[1;32m     30\u001b[0m                 \u001b[0;31m# track history if only in train\u001b[0m\u001b[0;34m\u001b[0m\u001b[0;34m\u001b[0m\u001b[0;34m\u001b[0m\u001b[0m\n\u001b[1;32m     31\u001b[0m                 \u001b[0;32mwith\u001b[0m \u001b[0mtorch\u001b[0m\u001b[0;34m.\u001b[0m\u001b[0mset_grad_enabled\u001b[0m\u001b[0;34m(\u001b[0m\u001b[0mphase\u001b[0m \u001b[0;34m==\u001b[0m \u001b[0;34m'train'\u001b[0m\u001b[0;34m)\u001b[0m\u001b[0;34m:\u001b[0m\u001b[0;34m\u001b[0m\u001b[0;34m\u001b[0m\u001b[0m\n\u001b[0;32m---> 32\u001b[0;31m                     \u001b[0moutputs\u001b[0m \u001b[0;34m=\u001b[0m \u001b[0mmodel\u001b[0m\u001b[0;34m(\u001b[0m\u001b[0minputs\u001b[0m\u001b[0;34m)\u001b[0m\u001b[0;34m\u001b[0m\u001b[0;34m\u001b[0m\u001b[0m\n\u001b[0m\u001b[1;32m     33\u001b[0m                     \u001b[0m_\u001b[0m\u001b[0;34m,\u001b[0m \u001b[0mpreds\u001b[0m \u001b[0;34m=\u001b[0m \u001b[0mtorch\u001b[0m\u001b[0;34m.\u001b[0m\u001b[0mmax\u001b[0m\u001b[0;34m(\u001b[0m\u001b[0moutputs\u001b[0m\u001b[0;34m,\u001b[0m \u001b[0;36m1\u001b[0m\u001b[0;34m)\u001b[0m\u001b[0;34m\u001b[0m\u001b[0;34m\u001b[0m\u001b[0m\n\u001b[1;32m     34\u001b[0m                     \u001b[0mloss\u001b[0m \u001b[0;34m=\u001b[0m \u001b[0mcriterion\u001b[0m\u001b[0;34m(\u001b[0m\u001b[0moutputs\u001b[0m\u001b[0;34m,\u001b[0m \u001b[0mlabels\u001b[0m\u001b[0;34m)\u001b[0m\u001b[0;34m\u001b[0m\u001b[0;34m\u001b[0m\u001b[0m\n",
            "\u001b[0;32m/usr/local/lib/python3.6/dist-packages/torch/nn/modules/module.py\u001b[0m in \u001b[0;36m__call__\u001b[0;34m(self, *input, **kwargs)\u001b[0m\n\u001b[1;32m    548\u001b[0m             \u001b[0mresult\u001b[0m \u001b[0;34m=\u001b[0m \u001b[0mself\u001b[0m\u001b[0;34m.\u001b[0m\u001b[0m_slow_forward\u001b[0m\u001b[0;34m(\u001b[0m\u001b[0;34m*\u001b[0m\u001b[0minput\u001b[0m\u001b[0;34m,\u001b[0m \u001b[0;34m**\u001b[0m\u001b[0mkwargs\u001b[0m\u001b[0;34m)\u001b[0m\u001b[0;34m\u001b[0m\u001b[0;34m\u001b[0m\u001b[0m\n\u001b[1;32m    549\u001b[0m         \u001b[0;32melse\u001b[0m\u001b[0;34m:\u001b[0m\u001b[0;34m\u001b[0m\u001b[0;34m\u001b[0m\u001b[0m\n\u001b[0;32m--> 550\u001b[0;31m             \u001b[0mresult\u001b[0m \u001b[0;34m=\u001b[0m \u001b[0mself\u001b[0m\u001b[0;34m.\u001b[0m\u001b[0mforward\u001b[0m\u001b[0;34m(\u001b[0m\u001b[0;34m*\u001b[0m\u001b[0minput\u001b[0m\u001b[0;34m,\u001b[0m \u001b[0;34m**\u001b[0m\u001b[0mkwargs\u001b[0m\u001b[0;34m)\u001b[0m\u001b[0;34m\u001b[0m\u001b[0;34m\u001b[0m\u001b[0m\n\u001b[0m\u001b[1;32m    551\u001b[0m         \u001b[0;32mfor\u001b[0m \u001b[0mhook\u001b[0m \u001b[0;32min\u001b[0m \u001b[0mself\u001b[0m\u001b[0;34m.\u001b[0m\u001b[0m_forward_hooks\u001b[0m\u001b[0;34m.\u001b[0m\u001b[0mvalues\u001b[0m\u001b[0;34m(\u001b[0m\u001b[0;34m)\u001b[0m\u001b[0;34m:\u001b[0m\u001b[0;34m\u001b[0m\u001b[0;34m\u001b[0m\u001b[0m\n\u001b[1;32m    552\u001b[0m             \u001b[0mhook_result\u001b[0m \u001b[0;34m=\u001b[0m \u001b[0mhook\u001b[0m\u001b[0;34m(\u001b[0m\u001b[0mself\u001b[0m\u001b[0;34m,\u001b[0m \u001b[0minput\u001b[0m\u001b[0;34m,\u001b[0m \u001b[0mresult\u001b[0m\u001b[0;34m)\u001b[0m\u001b[0;34m\u001b[0m\u001b[0;34m\u001b[0m\u001b[0m\n",
            "\u001b[0;32m/content/ICNN.py\u001b[0m in \u001b[0;36mforward\u001b[0;34m(self, x)\u001b[0m\n\u001b[1;32m     82\u001b[0m     \u001b[0moutput_f\u001b[0m \u001b[0;34m=\u001b[0m \u001b[0;32mNone\u001b[0m\u001b[0;34m\u001b[0m\u001b[0;34m\u001b[0m\u001b[0m\n\u001b[1;32m     83\u001b[0m     \u001b[0;32mfor\u001b[0m \u001b[0mi\u001b[0m\u001b[0;34m,\u001b[0m\u001b[0mmicrocnn\u001b[0m \u001b[0;32min\u001b[0m \u001b[0menumerate\u001b[0m\u001b[0;34m(\u001b[0m\u001b[0mself\u001b[0m\u001b[0;34m.\u001b[0m\u001b[0mucnn\u001b[0m\u001b[0;34m)\u001b[0m\u001b[0;34m:\u001b[0m\u001b[0;34m\u001b[0m\u001b[0;34m\u001b[0m\u001b[0m\n\u001b[0;32m---> 84\u001b[0;31m       \u001b[0minput_f\u001b[0m \u001b[0;34m=\u001b[0m \u001b[0mpreprocessing\u001b[0m\u001b[0;34m.\u001b[0m\u001b[0mprepare_batch\u001b[0m\u001b[0;34m(\u001b[0m\u001b[0mx\u001b[0m\u001b[0;34m,\u001b[0m\u001b[0mi\u001b[0m\u001b[0;34m,\u001b[0m\u001b[0mself\u001b[0m\u001b[0;34m.\u001b[0m\u001b[0mbatch_size\u001b[0m\u001b[0;34m)\u001b[0m\u001b[0;34m\u001b[0m\u001b[0;34m\u001b[0m\u001b[0m\n\u001b[0m\u001b[1;32m     85\u001b[0m       \u001b[0moutput_f\u001b[0m \u001b[0;34m=\u001b[0m \u001b[0mmicrocnn\u001b[0m\u001b[0;34m(\u001b[0m\u001b[0minput_f\u001b[0m\u001b[0;34m.\u001b[0m\u001b[0mtype\u001b[0m\u001b[0;34m(\u001b[0m\u001b[0mtorch\u001b[0m\u001b[0;34m.\u001b[0m\u001b[0mfloat32\u001b[0m\u001b[0;34m)\u001b[0m\u001b[0;34m,\u001b[0m \u001b[0mtime\u001b[0m\u001b[0;34m=\u001b[0m\u001b[0mtemp\u001b[0m\u001b[0;34m,\u001b[0m \u001b[0mn\u001b[0m\u001b[0;34m=\u001b[0m\u001b[0mi\u001b[0m\u001b[0;34m+\u001b[0m\u001b[0;36m1\u001b[0m\u001b[0;34m,\u001b[0m \u001b[0mn_max\u001b[0m\u001b[0;34m=\u001b[0m\u001b[0mself\u001b[0m\u001b[0;34m.\u001b[0m\u001b[0mn_max\u001b[0m\u001b[0;34m,\u001b[0m \u001b[0mfmaps\u001b[0m\u001b[0;34m=\u001b[0m\u001b[0moutput_f\u001b[0m\u001b[0;34m,\u001b[0m \u001b[0mt_max\u001b[0m\u001b[0;34m=\u001b[0m\u001b[0mself\u001b[0m\u001b[0;34m.\u001b[0m\u001b[0mt_max\u001b[0m\u001b[0;34m)\u001b[0m\u001b[0;34m\u001b[0m\u001b[0;34m\u001b[0m\u001b[0m\n\u001b[1;32m     86\u001b[0m \u001b[0;34m\u001b[0m\u001b[0m\n",
            "\u001b[0;32m/content/preprocessing.py\u001b[0m in \u001b[0;36mprepare_batch\u001b[0;34m(input, n, batch_size)\u001b[0m\n\u001b[1;32m     77\u001b[0m \u001b[0;32mdef\u001b[0m \u001b[0mprepare_batch\u001b[0m\u001b[0;34m(\u001b[0m\u001b[0minput\u001b[0m\u001b[0;34m,\u001b[0m \u001b[0mn\u001b[0m\u001b[0;34m,\u001b[0m \u001b[0mbatch_size\u001b[0m\u001b[0;34m)\u001b[0m\u001b[0;34m:\u001b[0m\u001b[0;34m\u001b[0m\u001b[0;34m\u001b[0m\u001b[0m\n\u001b[1;32m     78\u001b[0m   \u001b[0;32mfor\u001b[0m \u001b[0mi\u001b[0m \u001b[0;32min\u001b[0m \u001b[0mrange\u001b[0m\u001b[0;34m(\u001b[0m\u001b[0mbatch_size\u001b[0m\u001b[0;34m)\u001b[0m\u001b[0;34m:\u001b[0m\u001b[0;34m\u001b[0m\u001b[0;34m\u001b[0m\u001b[0m\n\u001b[0;32m---> 79\u001b[0;31m     \u001b[0mimg_t\u001b[0m \u001b[0;34m=\u001b[0m \u001b[0minput\u001b[0m\u001b[0;34m[\u001b[0m\u001b[0mi\u001b[0m\u001b[0;34m,\u001b[0m\u001b[0;34m:\u001b[0m\u001b[0;34m,\u001b[0m\u001b[0;34m:\u001b[0m\u001b[0;34m,\u001b[0m\u001b[0;34m:\u001b[0m\u001b[0;34m]\u001b[0m\u001b[0;34m\u001b[0m\u001b[0;34m\u001b[0m\u001b[0m\n\u001b[0m\u001b[1;32m     80\u001b[0m     \u001b[0mimg_t\u001b[0m \u001b[0;34m=\u001b[0m \u001b[0mprepare_input\u001b[0m\u001b[0;34m(\u001b[0m\u001b[0mn\u001b[0m\u001b[0;34m,\u001b[0m\u001b[0mimg_t\u001b[0m\u001b[0;34m)\u001b[0m\u001b[0;34m\u001b[0m\u001b[0;34m\u001b[0m\u001b[0m\n\u001b[1;32m     81\u001b[0m     \u001b[0mimg_t\u001b[0m \u001b[0;34m=\u001b[0m \u001b[0mimg_t\u001b[0m\u001b[0;34m.\u001b[0m\u001b[0mview\u001b[0m\u001b[0;34m(\u001b[0m\u001b[0;34m-\u001b[0m\u001b[0;36m1\u001b[0m\u001b[0;34m,\u001b[0m\u001b[0;36m3\u001b[0m\u001b[0;34m,\u001b[0m\u001b[0;36m48\u001b[0m\u001b[0;34m,\u001b[0m\u001b[0;36m72\u001b[0m\u001b[0;34m)\u001b[0m\u001b[0;34m\u001b[0m\u001b[0;34m\u001b[0m\u001b[0m\n",
            "\u001b[0;31mIndexError\u001b[0m: index 2 is out of bounds for dimension 0 with size 2"
          ]
        }
      ]
    },
    {
      "cell_type": "code",
      "metadata": {
        "id": "jAD57T83RVeU",
        "colab_type": "code",
        "outputId": "198c1a11-352a-41d4-a3e9-d567e6b942ce",
        "colab": {
          "base_uri": "https://localhost:8080/",
          "height": 372
        }
      },
      "source": [
        "fit(icnn,dataset_val)"
      ],
      "execution_count": 52,
      "outputs": [
        {
          "output_type": "stream",
          "text": [
            "/usr/local/lib/python3.6/dist-packages/torch/nn/modules/loss.py:432: UserWarning: Using a target size (torch.Size([4])) that is different to the input size (torch.Size([4, 15])). This will likely lead to incorrect results due to broadcasting. Please ensure they have the same size.\n",
            "  return F.mse_loss(input, target, reduction=self.reduction)\n"
          ],
          "name": "stderr"
        },
        {
          "output_type": "error",
          "ename": "RuntimeError",
          "evalue": "ignored",
          "traceback": [
            "\u001b[0;31m---------------------------------------------------------------------------\u001b[0m",
            "\u001b[0;31mRuntimeError\u001b[0m                              Traceback (most recent call last)",
            "\u001b[0;32m<ipython-input-52-4ef55a5e7bd6>\u001b[0m in \u001b[0;36m<module>\u001b[0;34m()\u001b[0m\n\u001b[0;32m----> 1\u001b[0;31m \u001b[0mfit\u001b[0m\u001b[0;34m(\u001b[0m\u001b[0micnn\u001b[0m\u001b[0;34m,\u001b[0m\u001b[0mdataset_val\u001b[0m\u001b[0;34m)\u001b[0m\u001b[0;34m\u001b[0m\u001b[0;34m\u001b[0m\u001b[0m\n\u001b[0m",
            "\u001b[0;32m<ipython-input-46-8e16b4924195>\u001b[0m in \u001b[0;36mfit\u001b[0;34m(model, train_loader)\u001b[0m\n\u001b[1;32m     11\u001b[0m             \u001b[0moptimizer\u001b[0m\u001b[0;34m.\u001b[0m\u001b[0mzero_grad\u001b[0m\u001b[0;34m(\u001b[0m\u001b[0;34m)\u001b[0m\u001b[0;34m\u001b[0m\u001b[0;34m\u001b[0m\u001b[0m\n\u001b[1;32m     12\u001b[0m             \u001b[0moutput\u001b[0m \u001b[0;34m=\u001b[0m \u001b[0mmodel\u001b[0m\u001b[0;34m(\u001b[0m\u001b[0mvar_x_batch\u001b[0m\u001b[0;34m)\u001b[0m\u001b[0;34m\u001b[0m\u001b[0;34m\u001b[0m\u001b[0m\n\u001b[0;32m---> 13\u001b[0;31m             \u001b[0mloss\u001b[0m \u001b[0;34m=\u001b[0m \u001b[0merror\u001b[0m\u001b[0;34m(\u001b[0m\u001b[0moutput\u001b[0m\u001b[0;34m,\u001b[0m \u001b[0mvar_y_batch\u001b[0m\u001b[0;34m)\u001b[0m\u001b[0;34m\u001b[0m\u001b[0;34m\u001b[0m\u001b[0m\n\u001b[0m\u001b[1;32m     14\u001b[0m             \u001b[0mloss\u001b[0m\u001b[0;34m.\u001b[0m\u001b[0mbackward\u001b[0m\u001b[0;34m(\u001b[0m\u001b[0;34m)\u001b[0m\u001b[0;34m\u001b[0m\u001b[0;34m\u001b[0m\u001b[0m\n\u001b[1;32m     15\u001b[0m             \u001b[0moptimizer\u001b[0m\u001b[0;34m.\u001b[0m\u001b[0mstep\u001b[0m\u001b[0;34m(\u001b[0m\u001b[0;34m)\u001b[0m\u001b[0;34m\u001b[0m\u001b[0;34m\u001b[0m\u001b[0m\n",
            "\u001b[0;32m/usr/local/lib/python3.6/dist-packages/torch/nn/modules/module.py\u001b[0m in \u001b[0;36m__call__\u001b[0;34m(self, *input, **kwargs)\u001b[0m\n\u001b[1;32m    548\u001b[0m             \u001b[0mresult\u001b[0m \u001b[0;34m=\u001b[0m \u001b[0mself\u001b[0m\u001b[0;34m.\u001b[0m\u001b[0m_slow_forward\u001b[0m\u001b[0;34m(\u001b[0m\u001b[0;34m*\u001b[0m\u001b[0minput\u001b[0m\u001b[0;34m,\u001b[0m \u001b[0;34m**\u001b[0m\u001b[0mkwargs\u001b[0m\u001b[0;34m)\u001b[0m\u001b[0;34m\u001b[0m\u001b[0;34m\u001b[0m\u001b[0m\n\u001b[1;32m    549\u001b[0m         \u001b[0;32melse\u001b[0m\u001b[0;34m:\u001b[0m\u001b[0;34m\u001b[0m\u001b[0;34m\u001b[0m\u001b[0m\n\u001b[0;32m--> 550\u001b[0;31m             \u001b[0mresult\u001b[0m \u001b[0;34m=\u001b[0m \u001b[0mself\u001b[0m\u001b[0;34m.\u001b[0m\u001b[0mforward\u001b[0m\u001b[0;34m(\u001b[0m\u001b[0;34m*\u001b[0m\u001b[0minput\u001b[0m\u001b[0;34m,\u001b[0m \u001b[0;34m**\u001b[0m\u001b[0mkwargs\u001b[0m\u001b[0;34m)\u001b[0m\u001b[0;34m\u001b[0m\u001b[0;34m\u001b[0m\u001b[0m\n\u001b[0m\u001b[1;32m    551\u001b[0m         \u001b[0;32mfor\u001b[0m \u001b[0mhook\u001b[0m \u001b[0;32min\u001b[0m \u001b[0mself\u001b[0m\u001b[0;34m.\u001b[0m\u001b[0m_forward_hooks\u001b[0m\u001b[0;34m.\u001b[0m\u001b[0mvalues\u001b[0m\u001b[0;34m(\u001b[0m\u001b[0;34m)\u001b[0m\u001b[0;34m:\u001b[0m\u001b[0;34m\u001b[0m\u001b[0;34m\u001b[0m\u001b[0m\n\u001b[1;32m    552\u001b[0m             \u001b[0mhook_result\u001b[0m \u001b[0;34m=\u001b[0m \u001b[0mhook\u001b[0m\u001b[0;34m(\u001b[0m\u001b[0mself\u001b[0m\u001b[0;34m,\u001b[0m \u001b[0minput\u001b[0m\u001b[0;34m,\u001b[0m \u001b[0mresult\u001b[0m\u001b[0;34m)\u001b[0m\u001b[0;34m\u001b[0m\u001b[0;34m\u001b[0m\u001b[0m\n",
            "\u001b[0;32m/usr/local/lib/python3.6/dist-packages/torch/nn/modules/loss.py\u001b[0m in \u001b[0;36mforward\u001b[0;34m(self, input, target)\u001b[0m\n\u001b[1;32m    430\u001b[0m \u001b[0;34m\u001b[0m\u001b[0m\n\u001b[1;32m    431\u001b[0m     \u001b[0;32mdef\u001b[0m \u001b[0mforward\u001b[0m\u001b[0;34m(\u001b[0m\u001b[0mself\u001b[0m\u001b[0;34m,\u001b[0m \u001b[0minput\u001b[0m\u001b[0;34m,\u001b[0m \u001b[0mtarget\u001b[0m\u001b[0;34m)\u001b[0m\u001b[0;34m:\u001b[0m\u001b[0;34m\u001b[0m\u001b[0;34m\u001b[0m\u001b[0m\n\u001b[0;32m--> 432\u001b[0;31m         \u001b[0;32mreturn\u001b[0m \u001b[0mF\u001b[0m\u001b[0;34m.\u001b[0m\u001b[0mmse_loss\u001b[0m\u001b[0;34m(\u001b[0m\u001b[0minput\u001b[0m\u001b[0;34m,\u001b[0m \u001b[0mtarget\u001b[0m\u001b[0;34m,\u001b[0m \u001b[0mreduction\u001b[0m\u001b[0;34m=\u001b[0m\u001b[0mself\u001b[0m\u001b[0;34m.\u001b[0m\u001b[0mreduction\u001b[0m\u001b[0;34m)\u001b[0m\u001b[0;34m\u001b[0m\u001b[0;34m\u001b[0m\u001b[0m\n\u001b[0m\u001b[1;32m    433\u001b[0m \u001b[0;34m\u001b[0m\u001b[0m\n\u001b[1;32m    434\u001b[0m \u001b[0;34m\u001b[0m\u001b[0m\n",
            "\u001b[0;32m/usr/local/lib/python3.6/dist-packages/torch/nn/functional.py\u001b[0m in \u001b[0;36mmse_loss\u001b[0;34m(input, target, size_average, reduce, reduction)\u001b[0m\n\u001b[1;32m   2540\u001b[0m             \u001b[0mret\u001b[0m \u001b[0;34m=\u001b[0m \u001b[0mtorch\u001b[0m\u001b[0;34m.\u001b[0m\u001b[0mmean\u001b[0m\u001b[0;34m(\u001b[0m\u001b[0mret\u001b[0m\u001b[0;34m)\u001b[0m \u001b[0;32mif\u001b[0m \u001b[0mreduction\u001b[0m \u001b[0;34m==\u001b[0m \u001b[0;34m'mean'\u001b[0m \u001b[0;32melse\u001b[0m \u001b[0mtorch\u001b[0m\u001b[0;34m.\u001b[0m\u001b[0msum\u001b[0m\u001b[0;34m(\u001b[0m\u001b[0mret\u001b[0m\u001b[0;34m)\u001b[0m\u001b[0;34m\u001b[0m\u001b[0;34m\u001b[0m\u001b[0m\n\u001b[1;32m   2541\u001b[0m     \u001b[0;32melse\u001b[0m\u001b[0;34m:\u001b[0m\u001b[0;34m\u001b[0m\u001b[0;34m\u001b[0m\u001b[0m\n\u001b[0;32m-> 2542\u001b[0;31m         \u001b[0mexpanded_input\u001b[0m\u001b[0;34m,\u001b[0m \u001b[0mexpanded_target\u001b[0m \u001b[0;34m=\u001b[0m \u001b[0mtorch\u001b[0m\u001b[0;34m.\u001b[0m\u001b[0mbroadcast_tensors\u001b[0m\u001b[0;34m(\u001b[0m\u001b[0minput\u001b[0m\u001b[0;34m,\u001b[0m \u001b[0mtarget\u001b[0m\u001b[0;34m)\u001b[0m\u001b[0;34m\u001b[0m\u001b[0;34m\u001b[0m\u001b[0m\n\u001b[0m\u001b[1;32m   2543\u001b[0m         \u001b[0mret\u001b[0m \u001b[0;34m=\u001b[0m \u001b[0mtorch\u001b[0m\u001b[0;34m.\u001b[0m\u001b[0m_C\u001b[0m\u001b[0;34m.\u001b[0m\u001b[0m_nn\u001b[0m\u001b[0;34m.\u001b[0m\u001b[0mmse_loss\u001b[0m\u001b[0;34m(\u001b[0m\u001b[0mexpanded_input\u001b[0m\u001b[0;34m,\u001b[0m \u001b[0mexpanded_target\u001b[0m\u001b[0;34m,\u001b[0m \u001b[0m_Reduction\u001b[0m\u001b[0;34m.\u001b[0m\u001b[0mget_enum\u001b[0m\u001b[0;34m(\u001b[0m\u001b[0mreduction\u001b[0m\u001b[0;34m)\u001b[0m\u001b[0;34m)\u001b[0m\u001b[0;34m\u001b[0m\u001b[0;34m\u001b[0m\u001b[0m\n\u001b[1;32m   2544\u001b[0m     \u001b[0;32mreturn\u001b[0m \u001b[0mret\u001b[0m\u001b[0;34m\u001b[0m\u001b[0;34m\u001b[0m\u001b[0m\n",
            "\u001b[0;32m/usr/local/lib/python3.6/dist-packages/torch/functional.py\u001b[0m in \u001b[0;36mbroadcast_tensors\u001b[0;34m(*tensors)\u001b[0m\n\u001b[1;32m     60\u001b[0m         \u001b[0;32mif\u001b[0m \u001b[0many\u001b[0m\u001b[0;34m(\u001b[0m\u001b[0mtype\u001b[0m\u001b[0;34m(\u001b[0m\u001b[0mt\u001b[0m\u001b[0;34m)\u001b[0m \u001b[0;32mis\u001b[0m \u001b[0;32mnot\u001b[0m \u001b[0mTensor\u001b[0m \u001b[0;32mfor\u001b[0m \u001b[0mt\u001b[0m \u001b[0;32min\u001b[0m \u001b[0mtensors\u001b[0m\u001b[0;34m)\u001b[0m \u001b[0;32mand\u001b[0m \u001b[0mhas_torch_function\u001b[0m\u001b[0;34m(\u001b[0m\u001b[0mtensors\u001b[0m\u001b[0;34m)\u001b[0m\u001b[0;34m:\u001b[0m\u001b[0;34m\u001b[0m\u001b[0;34m\u001b[0m\u001b[0m\n\u001b[1;32m     61\u001b[0m             \u001b[0;32mreturn\u001b[0m \u001b[0mhandle_torch_function\u001b[0m\u001b[0;34m(\u001b[0m\u001b[0mbroadcast_tensors\u001b[0m\u001b[0;34m,\u001b[0m \u001b[0mtensors\u001b[0m\u001b[0;34m,\u001b[0m \u001b[0;34m*\u001b[0m\u001b[0mtensors\u001b[0m\u001b[0;34m)\u001b[0m\u001b[0;34m\u001b[0m\u001b[0;34m\u001b[0m\u001b[0m\n\u001b[0;32m---> 62\u001b[0;31m     \u001b[0;32mreturn\u001b[0m \u001b[0m_VF\u001b[0m\u001b[0;34m.\u001b[0m\u001b[0mbroadcast_tensors\u001b[0m\u001b[0;34m(\u001b[0m\u001b[0mtensors\u001b[0m\u001b[0;34m)\u001b[0m\u001b[0;34m\u001b[0m\u001b[0;34m\u001b[0m\u001b[0m\n\u001b[0m\u001b[1;32m     63\u001b[0m \u001b[0;34m\u001b[0m\u001b[0m\n\u001b[1;32m     64\u001b[0m \u001b[0;34m\u001b[0m\u001b[0m\n",
            "\u001b[0;31mRuntimeError\u001b[0m: The size of tensor a (15) must match the size of tensor b (4) at non-singleton dimension 1"
          ]
        }
      ]
    },
    {
      "cell_type": "code",
      "metadata": {
        "id": "Bfkq2spDndP1",
        "colab_type": "code",
        "colab": {}
      },
      "source": [
        "from torch.autograd import Variable"
      ],
      "execution_count": 0,
      "outputs": []
    },
    {
      "cell_type": "code",
      "metadata": {
        "id": "NtxEG-TUw1Ea",
        "colab_type": "code",
        "outputId": "d03ab7fc-5794-4965-aa39-9f26765c81c0",
        "colab": {
          "base_uri": "https://localhost:8080/",
          "height": 33
        }
      },
      "source": [
        "def count_parameters(model):\n",
        "    return sum(p.numel() for p in model.parameters() if p.requires_grad)\n",
        "\n",
        "count_parameters(icnn)    "
      ],
      "execution_count": 0,
      "outputs": [
        {
          "output_type": "execute_result",
          "data": {
            "text/plain": [
              "9970890"
            ]
          },
          "metadata": {
            "tags": []
          },
          "execution_count": 35
        }
      ]
    },
    {
      "cell_type": "code",
      "metadata": {
        "id": "8n9RGsxHOleK",
        "colab_type": "code",
        "outputId": "4c669360-ed04-4ffd-ef2f-2040e14e123b",
        "colab": {
          "base_uri": "https://localhost:8080/",
          "height": 33
        }
      },
      "source": [
        "a=torch.tensor([[1,2,3,4],[5,6,7,8],[8,9,5,1]])\n",
        "torch.max(a,dim=1)\n"
      ],
      "execution_count": 0,
      "outputs": [
        {
          "output_type": "execute_result",
          "data": {
            "text/plain": [
              "torch.return_types.max(values=tensor([4, 8, 9]), indices=tensor([3, 3, 1]))"
            ]
          },
          "metadata": {
            "tags": []
          },
          "execution_count": 44
        }
      ]
    },
    {
      "cell_type": "code",
      "metadata": {
        "id": "mcEAp5oQPWMF",
        "colab_type": "code",
        "outputId": "2d034a7c-ee38-493b-8599-3b50b816c1a0",
        "colab": {
          "base_uri": "https://localhost:8080/",
          "height": 33
        }
      },
      "source": [
        "icnn(torch.ones((4,3,96,144))).size()"
      ],
      "execution_count": 0,
      "outputs": [
        {
          "output_type": "execute_result",
          "data": {
            "text/plain": [
              "torch.Size([4, 15])"
            ]
          },
          "metadata": {
            "tags": []
          },
          "execution_count": 43
        }
      ]
    },
    {
      "cell_type": "code",
      "metadata": {
        "id": "OAON4HksTocp",
        "colab_type": "code",
        "outputId": "fb055a84-4cdc-4f33-8607-6461ad6f1cfd",
        "colab": {
          "base_uri": "https://localhost:8080/",
          "height": 1000
        }
      },
      "source": [
        "icnn.state_dict"
      ],
      "execution_count": 0,
      "outputs": [
        {
          "output_type": "execute_result",
          "data": {
            "text/plain": [
              "<bound method Module.state_dict of ICNN_Alexnet(\n",
              "  (ucnn): ModuleList(\n",
              "    (0): micro_cnn_Alexnet(\n",
              "      (conv1b): Conv2d(3, 18, kernel_size=(11, 11), stride=(1, 1), padding=(5, 5))\n",
              "      (conv2): Conv2d(18, 48, kernel_size=(5, 5), stride=(1, 1), padding=(2, 2))\n",
              "      (conv3): Conv2d(48, 64, kernel_size=(3, 3), stride=(1, 1), padding=(1, 1))\n",
              "      (conv4): Conv2d(64, 32, kernel_size=(3, 3), stride=(1, 1), padding=(1, 1))\n",
              "      (conv5): Conv2d(32, 32, kernel_size=(3, 3), stride=(1, 1), padding=(1, 1))\n",
              "      (fc1): Linear(in_features=11040, out_features=512, bias=True)\n",
              "      (fc2): Linear(in_features=512, out_features=256, bias=True)\n",
              "      (fc3): Linear(in_features=256, out_features=15, bias=True)\n",
              "    )\n",
              "    (1): micro_cnn_Alexnet(\n",
              "      (conv1b): Conv2d(3, 18, kernel_size=(11, 11), stride=(1, 1), padding=(5, 5))\n",
              "      (conv2): Conv2d(18, 48, kernel_size=(5, 5), stride=(1, 1), padding=(2, 2))\n",
              "      (conv3): Conv2d(48, 64, kernel_size=(3, 3), stride=(1, 1), padding=(1, 1))\n",
              "      (conv4): Conv2d(64, 32, kernel_size=(3, 3), stride=(1, 1), padding=(1, 1))\n",
              "      (conv5): Conv2d(32, 32, kernel_size=(3, 3), stride=(1, 1), padding=(1, 1))\n",
              "      (fc1): Linear(in_features=22080, out_features=512, bias=True)\n",
              "      (fc2): Linear(in_features=512, out_features=256, bias=True)\n",
              "      (fc3): Linear(in_features=256, out_features=15, bias=True)\n",
              "    )\n",
              "    (2): micro_cnn_Alexnet(\n",
              "      (conv1b): Conv2d(3, 18, kernel_size=(11, 11), stride=(1, 1), padding=(5, 5))\n",
              "      (conv2): Conv2d(18, 48, kernel_size=(5, 5), stride=(1, 1), padding=(2, 2))\n",
              "      (conv3): Conv2d(48, 64, kernel_size=(3, 3), stride=(1, 1), padding=(1, 1))\n",
              "      (conv4): Conv2d(64, 32, kernel_size=(3, 3), stride=(1, 1), padding=(1, 1))\n",
              "      (conv5): Conv2d(32, 32, kernel_size=(3, 3), stride=(1, 1), padding=(1, 1))\n",
              "      (fc1): Linear(in_features=33120, out_features=512, bias=True)\n",
              "      (fc2): Linear(in_features=512, out_features=256, bias=True)\n",
              "      (fc3): Linear(in_features=256, out_features=15, bias=True)\n",
              "    )\n",
              "    (3): micro_cnn_Alexnet(\n",
              "      (conv1b): Conv2d(3, 18, kernel_size=(11, 11), stride=(1, 1), padding=(5, 5))\n",
              "      (conv2): Conv2d(18, 48, kernel_size=(5, 5), stride=(1, 1), padding=(2, 2))\n",
              "      (conv3): Conv2d(48, 64, kernel_size=(3, 3), stride=(1, 1), padding=(1, 1))\n",
              "      (conv4): Conv2d(64, 32, kernel_size=(3, 3), stride=(1, 1), padding=(1, 1))\n",
              "      (conv5): Conv2d(32, 32, kernel_size=(3, 3), stride=(1, 1), padding=(1, 1))\n",
              "      (fc1): Linear(in_features=44160, out_features=512, bias=True)\n",
              "      (fc2): Linear(in_features=512, out_features=256, bias=True)\n",
              "      (fc3): Linear(in_features=256, out_features=15, bias=True)\n",
              "    )\n",
              "    (4): micro_cnn_Alexnet(\n",
              "      (conv1b): Conv2d(3, 18, kernel_size=(11, 11), stride=(1, 1), padding=(5, 5))\n",
              "      (conv2): Conv2d(18, 48, kernel_size=(5, 5), stride=(1, 1), padding=(2, 2))\n",
              "      (conv3): Conv2d(48, 64, kernel_size=(3, 3), stride=(1, 1), padding=(1, 1))\n",
              "      (conv4): Conv2d(64, 32, kernel_size=(3, 3), stride=(1, 1), padding=(1, 1))\n",
              "      (conv5): Conv2d(32, 32, kernel_size=(3, 3), stride=(1, 1), padding=(1, 1))\n",
              "      (fc1): Linear(in_features=55200, out_features=512, bias=True)\n",
              "      (fc2): Linear(in_features=512, out_features=256, bias=True)\n",
              "      (fc3): Linear(in_features=256, out_features=15, bias=True)\n",
              "    )\n",
              "    (5): micro_cnn_Alexnet(\n",
              "      (conv1b): Conv2d(3, 18, kernel_size=(11, 11), stride=(1, 1), padding=(5, 5))\n",
              "      (conv2): Conv2d(18, 48, kernel_size=(5, 5), stride=(1, 1), padding=(2, 2))\n",
              "      (conv3): Conv2d(48, 64, kernel_size=(3, 3), stride=(1, 1), padding=(1, 1))\n",
              "      (conv4): Conv2d(64, 32, kernel_size=(3, 3), stride=(1, 1), padding=(1, 1))\n",
              "      (conv5): Conv2d(32, 32, kernel_size=(3, 3), stride=(1, 1), padding=(1, 1))\n",
              "      (fc1): Linear(in_features=66240, out_features=512, bias=True)\n",
              "      (fc2): Linear(in_features=512, out_features=256, bias=True)\n",
              "      (fc3): Linear(in_features=256, out_features=15, bias=True)\n",
              "    )\n",
              "  )\n",
              ")>"
            ]
          },
          "metadata": {
            "tags": []
          },
          "execution_count": 25
        }
      ]
    }
  ]
}