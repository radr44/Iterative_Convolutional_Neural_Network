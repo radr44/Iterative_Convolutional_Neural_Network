{
  "nbformat": 4,
  "nbformat_minor": 0,
  "metadata": {
    "colab": {
      "name": "preprocessing.ipynb",
      "provenance": [],
      "authorship_tag": "ABX9TyM4R3TruP/udTJsAhnWt51B",
      "include_colab_link": true
    },
    "kernelspec": {
      "name": "python3",
      "display_name": "Python 3"
    }
  },
  "cells": [
    {
      "cell_type": "markdown",
      "metadata": {
        "id": "view-in-github",
        "colab_type": "text"
      },
      "source": [
        "<a href=\"https://colab.research.google.com/github/radr44/Iterative_Convolutional_Neural_Network/blob/master/checkpoints/preprocessing.ipynb\" target=\"_parent\"><img src=\"https://colab.research.google.com/assets/colab-badge.svg\" alt=\"Open In Colab\"/></a>"
      ]
    },
    {
      "cell_type": "code",
      "metadata": {
        "id": "k-JBOW_ANbED",
        "colab_type": "code",
        "colab": {}
      },
      "source": [
        "import torch\n",
        "import numpy as np\n",
        "import cv2 as cv\n",
        "import subsampling"
      ],
      "execution_count": 0,
      "outputs": []
    },
    {
      "cell_type": "code",
      "metadata": {
        "id": "hB9iBBz8NtZZ",
        "colab_type": "code",
        "colab": {}
      },
      "source": [
        "def prepare_input(iteration, tensor):\n",
        "  if iteration == 1:\n",
        "    img = tensor.numpy().transpose(1,2,0)\n",
        "    img = subsampling.Laplacian((img*255).astype(np.uint8))\n",
        "    tensor = torch.from_numpy(img.transpose((2,0,1))).type(torch.float16)\n",
        "    return tensor\n",
        "\n",
        "  if iteration == 2:\n",
        "    img = tensor.numpy().transpose(1,2,0)\n",
        "    img = subsampling.wfilter((img*255).astype(np.uint8))\n",
        "    tensor = torch.from_numpy(img.transpose((2,0,1))).type(torch.float16)\n",
        "    return tensor\n",
        "\n",
        "  if iteration == 3:\n",
        "    img = tensor.numpy().transpose(1,2,0)\n",
        "    img = subsampling.hfilter((img*255).astype(np.uint8))\n",
        "    tensor = torch.from_numpy(img.transpose((2,0,1))).type(torch.float16)\n",
        "    return tensor\n",
        "\n",
        "\n",
        "  if iteration == 4:\n",
        "    img = tensor.numpy().transpose(1,2,0)\n",
        "    img = subsampling.vfilter((img*255).astype(np.uint8))\n",
        "    tensor = torch.from_numpy(img.transpose((2,0,1))).type(torch.float16)\n",
        "    return tensor\n",
        "  \n",
        "  if iteration == 5:\n",
        "    img = tensor.numpy().transpose(1,2,0)\n",
        "    img = subsampling.hfilter((img*255).astype(np.uint8),ker=1)\n",
        "    tensor = torch.from_numpy(img.transpose((2,0,1))).type(torch.float16)\n",
        "    return tensor\n",
        "\n",
        "  if iteration == 6:\n",
        "    img = tensor.numpy().transpose(1,2,0)\n",
        "    img = subsampling.wfilter((img*255).astype(np.uint8),ker=1)\n",
        "    tensor = torch.from_numpy(img.transpose((2,0,1))).type(torch.float16)\n",
        "    return tensor\n",
        "\n",
        "  if iteration == 7:\n",
        "    img = tensor.numpy().transpose(1,2,0)\n",
        "    img = subsampling.vfilter((img*255).astype(np.uint8),ker=1)\n",
        "    tensor = torch.from_numpy(img.transpose((2,0,1))).type(torch.float16)\n",
        "    return tensor\n",
        "\n",
        "  if iteration == 8:\n",
        "    img = tensor.numpy().transpose(1,2,0)\n",
        "    img = subsampling.Laplacian((img*255).astype(np.uint8),ker=5)\n",
        "    tensor = torch.from_numpy(img.transpose((2,0,1))).type(torch.float16)\n",
        "    return tensor\n",
        "\n",
        "  if iteration == 9:\n",
        "    img = tensor.numpy().transpose(1,2,0)\n",
        "    img = subsampling.Laplacian((img*255).astype(np.uint8),ker=1)\n",
        "    tensor = torch.from_numpy(img.transpose((2,0,1))).type(torch.float16)\n",
        "    return tensor\n",
        "\n",
        "  if iteration == 0:\n",
        "    img = tensor.numpy().transpose(1,2,0)\n",
        "    img = subsampling.Gaussian_downscale((img*255).astype(np.uint8))\n",
        "    tensor = torch.from_numpy(img.transpose((2,0,1))).type(torch.float16)\n",
        "    return tensor\n"
      ],
      "execution_count": 0,
      "outputs": []
    },
    {
      "cell_type": "code",
      "metadata": {
        "id": "GqkRl_b5cv8o",
        "colab_type": "code",
        "colab": {}
      },
      "source": [
        "def prepare_batch(input, n, batch_size):\n",
        "  for i in range(batch_size):\n",
        "    img_t = input[i,:,:,:]\n",
        "    img_t = prepare_input(n,img_t)\n",
        "    img_t = img_t.view(-1,3,120,184)\n",
        "    if i==0:\n",
        "      op = img_t\n",
        "    else:\n",
        "      op = torch.cat((op,img_t),dim=0)\n",
        "\n",
        "  return op    "
      ],
      "execution_count": 0,
      "outputs": []
    },
    {
      "cell_type": "code",
      "metadata": {
        "id": "Szc5twB5lGKG",
        "colab_type": "code",
        "outputId": "6db24a3a-e497-4b19-e445-9faeda690c23",
        "colab": {
          "base_uri": "https://localhost:8080/",
          "height": 1000
        }
      },
      "source": [
        "prepare_batch(torch.ones((4,3,240,368)), 6, 4)"
      ],
      "execution_count": 0,
      "outputs": [
        {
          "output_type": "execute_result",
          "data": {
            "text/plain": [
              "tensor([[[[0., 0., 0.,  ..., 0., 0., 0.],\n",
              "          [0., 0., 0.,  ..., 0., 0., 0.],\n",
              "          [0., 0., 0.,  ..., 0., 0., 0.],\n",
              "          ...,\n",
              "          [0., 0., 0.,  ..., 0., 0., 0.],\n",
              "          [0., 0., 0.,  ..., 0., 0., 0.],\n",
              "          [0., 0., 0.,  ..., 0., 0., 0.]],\n",
              "\n",
              "         [[0., 0., 0.,  ..., 0., 0., 0.],\n",
              "          [0., 0., 0.,  ..., 0., 0., 0.],\n",
              "          [0., 0., 0.,  ..., 0., 0., 0.],\n",
              "          ...,\n",
              "          [0., 0., 0.,  ..., 0., 0., 0.],\n",
              "          [0., 0., 0.,  ..., 0., 0., 0.],\n",
              "          [0., 0., 0.,  ..., 0., 0., 0.]],\n",
              "\n",
              "         [[0., 0., 0.,  ..., 0., 0., 0.],\n",
              "          [0., 0., 0.,  ..., 0., 0., 0.],\n",
              "          [0., 0., 0.,  ..., 0., 0., 0.],\n",
              "          ...,\n",
              "          [0., 0., 0.,  ..., 0., 0., 0.],\n",
              "          [0., 0., 0.,  ..., 0., 0., 0.],\n",
              "          [0., 0., 0.,  ..., 0., 0., 0.]]],\n",
              "\n",
              "\n",
              "        [[[0., 0., 0.,  ..., 0., 0., 0.],\n",
              "          [0., 0., 0.,  ..., 0., 0., 0.],\n",
              "          [0., 0., 0.,  ..., 0., 0., 0.],\n",
              "          ...,\n",
              "          [0., 0., 0.,  ..., 0., 0., 0.],\n",
              "          [0., 0., 0.,  ..., 0., 0., 0.],\n",
              "          [0., 0., 0.,  ..., 0., 0., 0.]],\n",
              "\n",
              "         [[0., 0., 0.,  ..., 0., 0., 0.],\n",
              "          [0., 0., 0.,  ..., 0., 0., 0.],\n",
              "          [0., 0., 0.,  ..., 0., 0., 0.],\n",
              "          ...,\n",
              "          [0., 0., 0.,  ..., 0., 0., 0.],\n",
              "          [0., 0., 0.,  ..., 0., 0., 0.],\n",
              "          [0., 0., 0.,  ..., 0., 0., 0.]],\n",
              "\n",
              "         [[0., 0., 0.,  ..., 0., 0., 0.],\n",
              "          [0., 0., 0.,  ..., 0., 0., 0.],\n",
              "          [0., 0., 0.,  ..., 0., 0., 0.],\n",
              "          ...,\n",
              "          [0., 0., 0.,  ..., 0., 0., 0.],\n",
              "          [0., 0., 0.,  ..., 0., 0., 0.],\n",
              "          [0., 0., 0.,  ..., 0., 0., 0.]]],\n",
              "\n",
              "\n",
              "        [[[0., 0., 0.,  ..., 0., 0., 0.],\n",
              "          [0., 0., 0.,  ..., 0., 0., 0.],\n",
              "          [0., 0., 0.,  ..., 0., 0., 0.],\n",
              "          ...,\n",
              "          [0., 0., 0.,  ..., 0., 0., 0.],\n",
              "          [0., 0., 0.,  ..., 0., 0., 0.],\n",
              "          [0., 0., 0.,  ..., 0., 0., 0.]],\n",
              "\n",
              "         [[0., 0., 0.,  ..., 0., 0., 0.],\n",
              "          [0., 0., 0.,  ..., 0., 0., 0.],\n",
              "          [0., 0., 0.,  ..., 0., 0., 0.],\n",
              "          ...,\n",
              "          [0., 0., 0.,  ..., 0., 0., 0.],\n",
              "          [0., 0., 0.,  ..., 0., 0., 0.],\n",
              "          [0., 0., 0.,  ..., 0., 0., 0.]],\n",
              "\n",
              "         [[0., 0., 0.,  ..., 0., 0., 0.],\n",
              "          [0., 0., 0.,  ..., 0., 0., 0.],\n",
              "          [0., 0., 0.,  ..., 0., 0., 0.],\n",
              "          ...,\n",
              "          [0., 0., 0.,  ..., 0., 0., 0.],\n",
              "          [0., 0., 0.,  ..., 0., 0., 0.],\n",
              "          [0., 0., 0.,  ..., 0., 0., 0.]]],\n",
              "\n",
              "\n",
              "        [[[0., 0., 0.,  ..., 0., 0., 0.],\n",
              "          [0., 0., 0.,  ..., 0., 0., 0.],\n",
              "          [0., 0., 0.,  ..., 0., 0., 0.],\n",
              "          ...,\n",
              "          [0., 0., 0.,  ..., 0., 0., 0.],\n",
              "          [0., 0., 0.,  ..., 0., 0., 0.],\n",
              "          [0., 0., 0.,  ..., 0., 0., 0.]],\n",
              "\n",
              "         [[0., 0., 0.,  ..., 0., 0., 0.],\n",
              "          [0., 0., 0.,  ..., 0., 0., 0.],\n",
              "          [0., 0., 0.,  ..., 0., 0., 0.],\n",
              "          ...,\n",
              "          [0., 0., 0.,  ..., 0., 0., 0.],\n",
              "          [0., 0., 0.,  ..., 0., 0., 0.],\n",
              "          [0., 0., 0.,  ..., 0., 0., 0.]],\n",
              "\n",
              "         [[0., 0., 0.,  ..., 0., 0., 0.],\n",
              "          [0., 0., 0.,  ..., 0., 0., 0.],\n",
              "          [0., 0., 0.,  ..., 0., 0., 0.],\n",
              "          ...,\n",
              "          [0., 0., 0.,  ..., 0., 0., 0.],\n",
              "          [0., 0., 0.,  ..., 0., 0., 0.],\n",
              "          [0., 0., 0.,  ..., 0., 0., 0.]]]], dtype=torch.float16)"
            ]
          },
          "metadata": {
            "tags": []
          },
          "execution_count": 12
        }
      ]
    }
  ]
}